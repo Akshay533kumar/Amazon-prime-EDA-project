{
  "nbformat": 4,
  "nbformat_minor": 0,
  "metadata": {
    "colab": {
      "private_outputs": true,
      "provenance": [],
      "collapsed_sections": [
        "vncDsAP0Gaoa",
        "FJNUwmbgGyua",
        "w6K7xa23Elo4",
        "yQaldy8SH6Dl",
        "PH-0ReGfmX4f",
        "mDgbUHAGgjLW",
        "O_i_v8NEhb9l",
        "HhfV-JJviCcP",
        "Y3lxredqlCYt",
        "3RnN4peoiCZX",
        "x71ZqKXriCWQ",
        "7hBIi_osiCS2",
        "JlHwYmJAmNHm",
        "35m5QtbWiB9F",
        "PoPl-ycgm1ru",
        "H0kj-8xxnORC",
        "nA9Y7ga8ng1Z",
        "PBTbrJXOngz2",
        "u3PMJOP6ngxN",
        "dauF4eBmngu3",
        "bKJF3rekwFvQ",
        "MSa1f5Uengrz",
        "GF8Ens_Soomf",
        "0wOQAZs5pc--",
        "K5QZ13OEpz2H",
        "lQ7QKXXCp7Bj",
        "448CDAPjqfQr",
        "KSlN3yHqYklG",
        "t6dVpIINYklI",
        "ijmpgYnKYklI",
        "-JiQyfWJYklI",
        "EM7whBJCYoAo",
        "fge-S5ZAYoAp",
        "85gYPyotYoAp",
        "RoGjAbkUYoAp",
        "4Of9eVA-YrdM",
        "iky9q4vBYrdO",
        "F6T5p64dYrdO",
        "y-Ehk30pYrdP",
        "bamQiAODYuh1",
        "QHF8YVU7Yuh3",
        "GwzvFGzlYuh3",
        "qYpmQ266Yuh3",
        "OH-pJp9IphqM",
        "bbFf2-_FphqN",
        "_ouA3fa0phqN",
        "Seke61FWphqN",
        "PIIx-8_IphqN",
        "t27r6nlMphqO",
        "r2jJGEOYphqO",
        "b0JNsNcRphqO",
        "BZR9WyysphqO",
        "jj7wYXLtphqO",
        "eZrbJ2SmphqO",
        "rFu4xreNphqO",
        "YJ55k-q6phqO",
        "gCFgpxoyphqP",
        "OVtJsKN_phqQ",
        "lssrdh5qphqQ",
        "U2RJ9gkRphqQ",
        "1M8mcRywphqQ",
        "tgIPom80phqQ",
        "JMzcOPDDphqR",
        "x-EpHcCOp1ci",
        "X_VqEhTip1ck",
        "8zGJKyg5p1ck",
        "PVzmfK_Ep1ck",
        "n3dbpmDWp1ck",
        "ylSl6qgtp1ck",
        "ZWILFDl5p1ck",
        "M7G43BXep1ck",
        "Ag9LCva-p1cl",
        "E6MkPsBcp1cl",
        "2cELzS2fp1cl",
        "3MPXvC8up1cl",
        "NC_X3p0fY2L0",
        "UV0SzAkaZNRQ",
        "YPEH6qLeZNRQ",
        "q29F0dvdveiT",
        "EXh0U9oCveiU",
        "22aHeOlLveiV",
        "JcMwzZxoAimU",
        "8G2x9gOozGDZ",
        "gCX9965dhzqZ",
        "gIfDvo9L0UH2"
      ],
      "include_colab_link": true
    },
    "kernelspec": {
      "name": "python3",
      "display_name": "Python 3"
    },
    "language_info": {
      "name": "python"
    }
  },
  "cells": [
    {
      "cell_type": "markdown",
      "metadata": {
        "id": "view-in-github",
        "colab_type": "text"
      },
      "source": [
        "<a href=\"https://colab.research.google.com/github/Akshay533kumar/Amazon-prime-EDA-project/blob/main/Amazon_prime_EDA_project.ipynb\" target=\"_parent\"><img src=\"https://colab.research.google.com/assets/colab-badge.svg\" alt=\"Open In Colab\"/></a>"
      ]
    },
    {
      "cell_type": "markdown",
      "source": [
        "# **Project Summary -**"
      ],
      "metadata": {
        "id": "FJNUwmbgGyua"
      }
    },
    {
      "cell_type": "markdown",
      "source": [
        "This project focuses on performing exploratory data analysis (EDA) on Amazon Prime Video content to uncover insights related to genre distribution, content ratings, popularity, and temporal trends. By leveraging datasets containing show/movie titles and associated credits, we aim to understand the structure, preferences, and evolution of content offered on the platform."
      ],
      "metadata": {
        "id": "F6v_1wHtG2nS"
      }
    },
    {
      "cell_type": "markdown",
      "source": [
        "# **GitHub Link -**"
      ],
      "metadata": {
        "id": "w6K7xa23Elo4"
      }
    },
    {
      "cell_type": "markdown",
      "source": [
        "Provide your GitHub Link here.\n",
        "\n",
        "\n"
      ],
      "metadata": {
        "id": "h1o69JH3Eqqn"
      }
    },
    {
      "cell_type": "markdown",
      "source": [
        "# **Problem Statement**\n"
      ],
      "metadata": {
        "id": "yQaldy8SH6Dl"
      }
    },
    {
      "cell_type": "markdown",
      "source": [
        "**Write Problem Statement Here.**"
      ],
      "metadata": {
        "id": "DpeJGUA3kjGy"
      }
    },
    {
      "cell_type": "markdown",
      "source": [
        "Answer HWith the rapid growth of digital streaming platforms, understanding content trends, viewer preferences, and catalog diversity is critical for competitive positioning. Amazon Prime Video hosts a vast library of TV shows and movies, but there is limited publicly available insight into the structure, performance, and evolution of its content.\n",
        "\n",
        "The objective of this project is to perform an in-depth exploratory data analysis (EDA) of Amazon Prime’s content catalog to answer key business questions such as:\n",
        "\n",
        "What are the most common genres and how are they distributed?\n",
        "\n",
        "How has the type and quantity of content evolved over the years?\n",
        "\n",
        "What is the relationship between content ratings, certifications, and viewer demographics?\n",
        "\n",
        "Who are the most featured actors and directors on the platform?\n",
        "\n",
        "Are there any identifiable trends in content duration or IMDb ratings?\n",
        "\n",
        "By addressing these questions, the project aims to uncover meaningful insights that could assist content strategists, recommendation system developers, and market analysts in making informed decisions based on data.ere."
      ],
      "metadata": {
        "id": "PhDvGCAqmjP1"
      }
    },
    {
      "cell_type": "markdown",
      "source": [
        "# ***Let's Begin !***"
      ],
      "metadata": {
        "id": "O_i_v8NEhb9l"
      }
    },
    {
      "cell_type": "markdown",
      "source": [
        "## ***1. Know Your Data***"
      ],
      "metadata": {
        "id": "HhfV-JJviCcP"
      }
    },
    {
      "cell_type": "markdown",
      "source": [
        "### Import Libraries"
      ],
      "metadata": {
        "id": "Y3lxredqlCYt"
      }
    },
    {
      "cell_type": "code",
      "source": [
        "# Import Libraries\n",
        "import pandas as pd\n",
        "import numpy as np\n",
        "import matplotlib.pyplot as plt\n",
        "import seaborn as sns\n",
        "import warnings\n",
        "warnings.filterwarnings('ignore')"
      ],
      "metadata": {
        "id": "M8Vqi-pPk-HR"
      },
      "execution_count": null,
      "outputs": []
    },
    {
      "cell_type": "markdown",
      "source": [
        "### Dataset Loading"
      ],
      "metadata": {
        "id": "3RnN4peoiCZX"
      }
    },
    {
      "cell_type": "code",
      "source": [
        "# Load Dataset\n",
        "titles_df=pd.read_csv('/content/titles.csv (1).zip')\n",
        "credits_df=pd.read_csv('/content/credits.csv.zip')"
      ],
      "metadata": {
        "id": "4CkvbW_SlZ_R"
      },
      "execution_count": null,
      "outputs": []
    },
    {
      "cell_type": "code",
      "source": [
        "data = pd.merge(titles_df, credits_df, on='id')"
      ],
      "metadata": {
        "id": "o0-bbbgka_Nu"
      },
      "execution_count": null,
      "outputs": []
    },
    {
      "cell_type": "markdown",
      "source": [
        "### Dataset First View"
      ],
      "metadata": {
        "id": "x71ZqKXriCWQ"
      }
    },
    {
      "cell_type": "code",
      "source": [
        "# Dataset First Look\n",
        "data.head(5)"
      ],
      "metadata": {
        "id": "LWNFOSvLl09H"
      },
      "execution_count": null,
      "outputs": []
    },
    {
      "cell_type": "markdown",
      "source": [
        "### Dataset Rows & Columns count"
      ],
      "metadata": {
        "id": "7hBIi_osiCS2"
      }
    },
    {
      "cell_type": "code",
      "source": [
        "# Dataset Rows & Columns count\n",
        "data.shape"
      ],
      "metadata": {
        "id": "Kllu7SJgmLij"
      },
      "execution_count": null,
      "outputs": []
    },
    {
      "cell_type": "markdown",
      "source": [
        "### Dataset Information"
      ],
      "metadata": {
        "id": "JlHwYmJAmNHm"
      }
    },
    {
      "cell_type": "code",
      "source": [
        "# Dataset Info\n",
        "data.info()"
      ],
      "metadata": {
        "id": "e9hRXRi6meOf"
      },
      "execution_count": null,
      "outputs": []
    },
    {
      "cell_type": "markdown",
      "source": [
        "#### Duplicate Values"
      ],
      "metadata": {
        "id": "35m5QtbWiB9F"
      }
    },
    {
      "cell_type": "code",
      "source": [
        "# Dataset Duplicate Value Count\n",
        "data.duplicated().sum()"
      ],
      "metadata": {
        "id": "1sLdpKYkmox0"
      },
      "execution_count": null,
      "outputs": []
    },
    {
      "cell_type": "markdown",
      "source": [
        "#### Missing Values/Null Values"
      ],
      "metadata": {
        "id": "PoPl-ycgm1ru"
      }
    },
    {
      "cell_type": "code",
      "source": [
        "# Missing Values/Null Values Count\n",
        "data.isnull().sum()"
      ],
      "metadata": {
        "id": "GgHWkxvamxVg"
      },
      "execution_count": null,
      "outputs": []
    },
    {
      "cell_type": "code",
      "source": [
        "# Visualizing the missing values\n",
        "data.dropna(subset=['description'],inplace=True)"
      ],
      "metadata": {
        "id": "3q5wnI3om9sJ"
      },
      "execution_count": null,
      "outputs": []
    },
    {
      "cell_type": "markdown",
      "source": [
        "# Data Wrangling"
      ],
      "metadata": {
        "id": "2emOzP05j27O"
      }
    },
    {
      "cell_type": "code",
      "source": [
        "data['age_certification'].mode()[0]"
      ],
      "metadata": {
        "id": "h6IlQaKCc6rN"
      },
      "execution_count": null,
      "outputs": []
    },
    {
      "cell_type": "code",
      "source": [
        "data['age_certification'].fillna(data['age_certification'].mode()[0],inplace=True)"
      ],
      "metadata": {
        "id": "DgIO4AtaeC7d"
      },
      "execution_count": null,
      "outputs": []
    },
    {
      "cell_type": "code",
      "source": [
        "data['seasons'].fillna(0,inplace=True)"
      ],
      "metadata": {
        "id": "Oi5RFsgheLPj"
      },
      "execution_count": null,
      "outputs": []
    },
    {
      "cell_type": "code",
      "source": [
        "data['imdb_id'].fillna(data['imdb_id'].mode()[0],inplace=True)"
      ],
      "metadata": {
        "id": "SuNm7fkbfBR7"
      },
      "execution_count": null,
      "outputs": []
    },
    {
      "cell_type": "code",
      "source": [
        "data['imdb_score'].fillna(round(data['imdb_score'].mean(),1),inplace=True)"
      ],
      "metadata": {
        "id": "hiXEN6HYiKuX"
      },
      "execution_count": null,
      "outputs": []
    },
    {
      "cell_type": "code",
      "source": [
        "data['imdb_votes'].fillna(0,inplace=True)"
      ],
      "metadata": {
        "id": "nCk0qqCDfTWA"
      },
      "execution_count": null,
      "outputs": []
    },
    {
      "cell_type": "code",
      "source": [
        "data['tmdb_popularity'].fillna(round(data['tmdb_popularity'].mean(),2),inplace=True)"
      ],
      "metadata": {
        "id": "nTAgYhDygcir"
      },
      "execution_count": null,
      "outputs": []
    },
    {
      "cell_type": "code",
      "source": [
        "data['tmdb_score'].fillna(round(data['tmdb_score'].mean(),2),inplace=True)"
      ],
      "metadata": {
        "id": "HECyQr3vgb-8"
      },
      "execution_count": null,
      "outputs": []
    },
    {
      "cell_type": "code",
      "source": [
        "data['character'].fillna('unknown',inplace=True)"
      ],
      "metadata": {
        "id": "kT2tvb4vgsT0"
      },
      "execution_count": null,
      "outputs": []
    },
    {
      "cell_type": "code",
      "source": [
        "data.isnull().sum()"
      ],
      "metadata": {
        "id": "ZoZimJMHh1T6"
      },
      "execution_count": null,
      "outputs": []
    },
    {
      "cell_type": "code",
      "source": [
        "data.duplicated().sum()"
      ],
      "metadata": {
        "id": "u1ZAn-s5jHDk"
      },
      "execution_count": null,
      "outputs": []
    },
    {
      "cell_type": "code",
      "source": [
        "data.drop_duplicates(inplace=True)"
      ],
      "metadata": {
        "id": "e0pTAtuHjLGW"
      },
      "execution_count": null,
      "outputs": []
    },
    {
      "cell_type": "markdown",
      "source": [
        "### What did you know about your dataset?"
      ],
      "metadata": {
        "id": "H0kj-8xxnORC"
      }
    },
    {
      "cell_type": "markdown",
      "source": [
        "**Answer** This dataset contains structured information about each piece of content (movie or TV show). Key columns include:\n",
        "\n",
        "Title: Name of the movie or show.\n",
        "\n",
        "Type: Whether it’s a movie or a TV show.\n",
        "\n",
        "Genre: Primary and sometimes secondary genres (e.g., Drama, Comedy).\n",
        "\n",
        "Release Year: Year the content was released.\n",
        "\n",
        "IMDb Rating: User rating from IMDb.\n",
        "\n",
        "Age Certification: Content rating (e.g., TV-MA, PG, R).\n",
        "\n",
        "Runtime: Duration in minutes.\n",
        "\n",
        "Description: Brief synopsis of the content.\n",
        "\n",
        "Production Country: Country of origin.\n",
        "\n",
        "Seasons: Number of seasons (if applicable for TV shows).\n",
        "\n",
        "2. credits.csv – Cast and Crew\n",
        "This dataset complements the titles dataset by providing details about the people involved:\n",
        "\n",
        "ID: Matches the title ID from titles.csv.\n",
        "\n",
        "Name: Actor or director name.\n",
        "\n",
        "Role: Role type (e.g., actor, director).\n",
        "\n",
        "Character Name: Character played (for actors).\n",
        "\n",
        "What I Learned About the Dataset\n",
        "The platform features diverse genres, with Drama, Comedy, and Action being the most frequent.\n",
        "\n",
        "Content ranges from early 1900s to recent years, allowing trend analysis over decades.\n",
        "\n",
        "IMDb ratings range widely, providing an opportunity to assess content quality.\n",
        "\n",
        "The dataset contains missing and inconsistent values (e.g., missing certifications or ratings), requiring data cleaning.\n",
        "\n",
        "Some titles are duplicated or multi-genre tagged, which needed normalization for accurate analysis.\n",
        "\n",
        "The credits.csv allows analysis of frequently cast actors/directors and their recurring collaborations."
      ],
      "metadata": {
        "id": "gfoNAAC-nUe_"
      }
    },
    {
      "cell_type": "markdown",
      "source": [
        "## ***2. Understanding Your Variables***"
      ],
      "metadata": {
        "id": "nA9Y7ga8ng1Z"
      }
    },
    {
      "cell_type": "code",
      "source": [
        "# Dataset Columns\n",
        "data.shape"
      ],
      "metadata": {
        "id": "j7xfkqrt5Ag5"
      },
      "execution_count": null,
      "outputs": []
    },
    {
      "cell_type": "code",
      "source": [
        "# Dataset Describe\n",
        "data.describe()"
      ],
      "metadata": {
        "id": "DnOaZdaE5Q5t"
      },
      "execution_count": null,
      "outputs": []
    },
    {
      "cell_type": "markdown",
      "source": [
        "## ***4. Data Vizualization, Storytelling & Experimenting with charts : Understand the relationships between variables***"
      ],
      "metadata": {
        "id": "GF8Ens_Soomf"
      }
    },
    {
      "cell_type": "markdown",
      "source": [
        "#### Chart - 1"
      ],
      "metadata": {
        "id": "0wOQAZs5pc--"
      }
    },
    {
      "cell_type": "code",
      "source": [
        "# Chart - 1 visualization code\n",
        "top_genres = data ['genres'].value_counts().head(10)\n",
        "plt.figure(figsize=(10, 6))\n",
        "sns.barplot(x=top_genres.values, y=top_genres.index)\n",
        "\n",
        "plt.title(\"Top 10 Genres on Amazon Prime\")\n",
        "plt.ylabel(\"Genre\")\n",
        "plt.tight_layout()\n",
        "plt.show()"
      ],
      "metadata": {
        "id": "7v_ESjsspbW7"
      },
      "execution_count": null,
      "outputs": []
    },
    {
      "cell_type": "markdown",
      "source": [
        "#### Chart - 2"
      ],
      "metadata": {
        "id": "KSlN3yHqYklG"
      }
    },
    {
      "cell_type": "code",
      "source": [
        "# Chart - 2 visualization code\n",
        "genre_imdb =data.groupby('genres')['imdb_score'].mean().sort_values(ascending=False).head(10)\n",
        "\n",
        "plt.figure(figsize=(10, 6))\n",
        "sns.barplot(x=genre_imdb.values, y=genre_imdb.index)\n",
        "\n",
        "plt.title(\"Top 10 Genres by Average IMDb Score\")\n",
        "plt.xlabel(\"Average IMDb Score\")\n",
        "plt.ylabel(\"Genre\")\n",
        "plt.xlim(0, 10)\n",
        "plt.tight_layout()\n",
        "plt.show()"
      ],
      "metadata": {
        "id": "R4YgtaqtYklH"
      },
      "execution_count": null,
      "outputs": []
    },
    {
      "cell_type": "markdown",
      "source": [
        "#### Chart - 3"
      ],
      "metadata": {
        "id": "EM7whBJCYoAo"
      }
    },
    {
      "cell_type": "code",
      "source": [
        "# Chart - 3 visualization code\n",
        "top_countries =data ['production_countries'].value_counts().head(10)\n",
        "plt.figure(figsize=(10, 6))\n",
        "sns.barplot(x=top_countries.values, y=top_countries.index)\n",
        "\n",
        "plt.title(\"Top 10 Production Countries on Amazon Prime\")\n",
        "plt.xlabel(\"Number of Titles\")\n",
        "plt.ylabel(\"Country\")\n",
        "plt.show()"
      ],
      "metadata": {
        "id": "t6GMdE67YoAp"
      },
      "execution_count": null,
      "outputs": []
    },
    {
      "cell_type": "markdown",
      "source": [
        "#### Chart - 4"
      ],
      "metadata": {
        "id": "4Of9eVA-YrdM"
      }
    },
    {
      "cell_type": "code",
      "source": [
        "# Chart - 4 visualization code\n",
        "plt.figure(figsize=(6, 4))\n",
        "sns.countplot(data=data, x='type')\n",
        "plt.title(\"Distribution of Content Type (Movies vs Shows)\")\n",
        "plt.xlabel(\"Content Type\")\n",
        "plt.ylabel(\"Count\")\n",
        "plt.show()"
      ],
      "metadata": {
        "id": "irlUoxc8YrdO"
      },
      "execution_count": null,
      "outputs": []
    },
    {
      "cell_type": "markdown",
      "source": [
        "#### Chart - 5"
      ],
      "metadata": {
        "id": "bamQiAODYuh1"
      }
    },
    {
      "cell_type": "code",
      "source": [
        "# Chart - 5 visualization code\n",
        "plt.figure(figsize=(8, 5))\n",
        "sns.countplot(data=data,x='age_certification',order=data['age_certification'].value_counts().index)\n",
        "plt.title(\"Age Certification Distribution\")\n",
        "plt.xlabel(\"Age Certification\")\n",
        "plt.ylabel(\"Number of Titles\")\n",
        "plt.show()"
      ],
      "metadata": {
        "id": "TIJwrbroYuh3"
      },
      "execution_count": null,
      "outputs": []
    },
    {
      "cell_type": "markdown",
      "source": [
        "#### Chart - 6"
      ],
      "metadata": {
        "id": "OH-pJp9IphqM"
      }
    },
    {
      "cell_type": "code",
      "source": [
        "# Chart - 6 visualization code\n",
        "plt.figure(figsize=(10, 6))\n",
        "sns.histplot(data['runtime'],kde=True)\n",
        "\n",
        "plt.title(\"Runtime Distribution of Amazon Prime \")\n",
        "plt.xlabel(\"Runtime (in minutes)\")\n",
        "plt.ylabel(\"Number of Titles\")\n",
        "plt.tight_layout()\n",
        "plt.show()"
      ],
      "metadata": {
        "id": "kuRf4wtuphqN"
      },
      "execution_count": null,
      "outputs": []
    },
    {
      "cell_type": "markdown",
      "source": [
        "#### Chart - 7"
      ],
      "metadata": {
        "id": "PIIx-8_IphqN"
      }
    },
    {
      "cell_type": "code",
      "source": [
        "# Chart - 7 visualization code\n",
        "year_counts = data['release_year'].value_counts().sort_index()\n",
        "plt.figure(figsize=(12, 6))\n",
        "sns.lineplot(x=year_counts.index, y=year_counts.values, marker='o', linewidth=2.5)\n",
        "\n",
        "plt.title(\"Number of Titles Released Each Year on Amazon Prime\")\n",
        "plt.xlabel(\"Release Year\")\n",
        "plt.ylabel(\"Number of Titles\")\n",
        "plt.grid(True)\n",
        "plt.tight_layout()\n",
        "plt.show()"
      ],
      "metadata": {
        "id": "lqAIGUfyphqO"
      },
      "execution_count": null,
      "outputs": []
    },
    {
      "cell_type": "markdown",
      "source": [
        "#### Chart - 8"
      ],
      "metadata": {
        "id": "BZR9WyysphqO"
      }
    },
    {
      "cell_type": "code",
      "source": [
        "# Chart - 8 visualization code\n",
        "plt.figure(figsize=(10, 6))\n",
        "sns.histplot(data['imdb_score'],bins=20, kde=True)\n",
        "\n",
        "plt.title(\"IMDb Score Distribution on Amazon Prime\")\n",
        "plt.xlabel(\"IMDb Score\")\n",
        "plt.ylabel(\"Number of Titles\")\n",
        "plt.show()"
      ],
      "metadata": {
        "id": "TdPTWpAVphqO"
      },
      "execution_count": null,
      "outputs": []
    },
    {
      "cell_type": "markdown",
      "source": [
        "#### Chart - 9"
      ],
      "metadata": {
        "id": "YJ55k-q6phqO"
      }
    },
    {
      "cell_type": "code",
      "source": [
        "# Chart - 9 visualization code\n",
        "plt.figure(figsize=(10, 6))\n",
        "sns.histplot(data ['tmdb_score'], bins=20, kde=True)\n",
        "\n",
        "plt.title(\"TMDb Score Distribution on Amazon Prime\")\n",
        "plt.xlabel(\"TMDb Score\")\n",
        "plt.ylabel(\"Number of Titles\")\n",
        "plt.show()"
      ],
      "metadata": {
        "id": "B2aS4O1ophqO"
      },
      "execution_count": null,
      "outputs": []
    },
    {
      "cell_type": "markdown",
      "source": [
        "#### Chart - 10"
      ],
      "metadata": {
        "id": "U2RJ9gkRphqQ"
      }
    },
    {
      "cell_type": "code",
      "source": [
        "# Chart - 10 visualization code\n",
        "avg_scores =data.groupby('type')['imdb_score'].mean().reset_index()\n",
        "plt.figure(figsize=(8, 5))\n",
        "sns.barplot(data=avg_scores, x='type', y='imdb_score')\n",
        "\n",
        "plt.title(\"Average IMDb Score by Content Type\")\n",
        "plt.xlabel(\"Content Type\")\n",
        "plt.ylabel(\"Average IMDb Score\")\n",
        "plt.show()"
      ],
      "metadata": {
        "id": "GM7a4YP4phqQ"
      },
      "execution_count": null,
      "outputs": []
    },
    {
      "cell_type": "markdown",
      "source": [
        "#### Chart - 11"
      ],
      "metadata": {
        "id": "x-EpHcCOp1ci"
      }
    },
    {
      "cell_type": "code",
      "source": [
        "# Chart - 11 visualization code\n",
        "genre_imdb =data.groupby('genres')['imdb_score'].mean().sort_values(ascending=False).head(10)\n",
        "\n",
        "plt.figure(figsize=(10, 6))\n",
        "sns.barplot(x=genre_imdb.values, y=genre_imdb.index, )\n",
        "\n",
        "plt.title(\"Top 10 Genres by Average IMDb Score\")\n",
        "plt.xlabel(\"Average IMDb Score\")\n",
        "plt.ylabel(\"Genre\")\n",
        "plt.xlim(0, 10)\n",
        "plt.tight_layout()\n",
        "plt.show()"
      ],
      "metadata": {
        "id": "mAQTIvtqp1cj"
      },
      "execution_count": null,
      "outputs": []
    },
    {
      "cell_type": "markdown",
      "source": [
        "#### Chart - 12"
      ],
      "metadata": {
        "id": "n3dbpmDWp1ck"
      }
    },
    {
      "cell_type": "code",
      "source": [
        "# Chart - 12 visualization code\n",
        "actor_df =data[data ['role'] == 'ACTOR']\n",
        "\n",
        "top_actors = actor_df['name'].value_counts().head(10)\n",
        "\n",
        "plt.figure(figsize=(10, 6))\n",
        "sns.barplot(x=top_actors.values, y=top_actors.index, )\n",
        "\n",
        "plt.title(\"Top 10 Most Frequent Actors on Amazon Prime\")\n",
        "plt.xlabel(\"Number of Appearances\")\n",
        "plt.ylabel(\"Actor\")\n",
        "plt.show()"
      ],
      "metadata": {
        "id": "bwevp1tKp1ck"
      },
      "execution_count": null,
      "outputs": []
    },
    {
      "cell_type": "markdown",
      "source": [
        "#### Chart - 13"
      ],
      "metadata": {
        "id": "Ag9LCva-p1cl"
      }
    },
    {
      "cell_type": "code",
      "source": [
        "# Chart - 13 visualization code\n",
        "directors_df = data [data['role'] == 'DIRECTOR']\n",
        "\n",
        "top_directors = directors_df['name'].value_counts().head(10)\n",
        "\n",
        "plt.figure(figsize=(10, 6))\n",
        "sns.barplot(x=top_directors.values, y=top_directors.index)\n",
        "\n",
        "plt.title(\"Top 10 Most Frequent Directors on Amazon Prime\")\n",
        "plt.xlabel(\"Number of Titles Directed\")\n",
        "plt.ylabel(\"Director\")\n",
        "plt.show()"
      ],
      "metadata": {
        "id": "EUfxeq9-p1cl"
      },
      "execution_count": null,
      "outputs": []
    },
    {
      "cell_type": "markdown",
      "source": [
        "#### Chart - 14 - Correlation Heatmap"
      ],
      "metadata": {
        "id": "NC_X3p0fY2L0"
      }
    },
    {
      "cell_type": "code",
      "source": [
        "# Correlation Heatmap visualization code\n",
        "numeric_df = data.select_dtypes(include=['float64', 'int64'])\n",
        "correlation_matrix =numeric_df.corr()\n",
        "\n",
        "plt.figure(figsize=(10, 6))\n",
        "sns.heatmap(correlation_matrix, annot=True, cmap='coolwarm', fmt=\".2f\", linewidths=0.5)\n",
        "\n",
        "plt.title(\"Correlation Heatmap: Amazon Prime Dataset\")\n",
        "plt.tight_layout()\n",
        "plt.show()"
      ],
      "metadata": {
        "id": "xyC9zolEZNRQ"
      },
      "execution_count": null,
      "outputs": []
    },
    {
      "cell_type": "markdown",
      "source": [
        "#### Chart - 15 - Pair Plot"
      ],
      "metadata": {
        "id": "q29F0dvdveiT"
      }
    },
    {
      "cell_type": "code",
      "source": [
        "# Pair Plot visualization code\n",
        "sns.pairplot(data, diag_kind='kde', corner=True)\n",
        "plt.suptitle(\"Pair Plot of IMDb Score, Runtime, and Release Year\", y=1.02)\n",
        "plt.show()"
      ],
      "metadata": {
        "id": "o58-TEIhveiU"
      },
      "execution_count": null,
      "outputs": []
    },
    {
      "cell_type": "markdown",
      "source": [
        "# **Conclusion**"
      ],
      "metadata": {
        "id": "3ByHWzu7n-Iu"
      }
    },
    {
      "cell_type": "markdown",
      "source": [
        "This Exploratory Data Analysis (EDA) of the Amazon Prime Video dataset has provided valuable insights into the platform's content, trends, and user preferences.\n",
        "\n",
        "Amazon Prime Video favors movies over TV shows, with a significantly large number of movies on a platform.\n",
        "\n",
        "Drama and comedy are the most prevalent genres, reflecting popular viewer choices. However, the platform boasts a diverse range of genres catering to various tastes.\n",
        "\n",
        "While movie runtimes have slightly decreased over the years, TV shows have seen a rise in the number of seasons, indicating a shift in viewer engagement patterns.\n",
        "\n",
        "Older titles generally have higher IMDb and TMDb ratings compared to newer releases, potentially due to factors like nostalgia and evolving preferences.\n",
        "\n",
        "The United States dominates content production, followed by India and the United Kingdom, highlighting their significant contributions to the platform's library.\n",
        "\n",
        "Overall, this EDA has successfully uncovered patterns and trends in the Amazon Prime Video dataset, offering valuable information for content creators, platform strategists, and viewers alike. Further analysis and deeper dives into specific genres, regions, or content types could provide even richer insights for future decision-making."
      ],
      "metadata": {
        "id": "7PjVCC5XoItz"
      }
    }
  ]
}